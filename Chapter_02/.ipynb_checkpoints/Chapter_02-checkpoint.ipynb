{
 "cells": [
  {
   "cell_type": "markdown",
   "metadata": {},
   "source": [
    "# Chapter 2: Statistical Learning"
   ]
  },
  {
   "cell_type": "markdown",
   "metadata": {},
   "source": [
    "To understand what statistical learning is, let's look at an example. We clients would like to know *how to improve sales of a particular product*. Their advertising dataset consists of sales of their product in 200 different markets. Each of these markets have three different media outlets: TV, radio, and newspaper. The data are displayed as follows: \n",
    "\n",
    "![](../images/figure_2.1.png)\n",
    "\n",
    "It is not possible to directly increase the sales of the product. However, the clients can control the advertising expenditure in each of the three media. So, if we can determine that there is an association between advertising and sales, then we can instruct them to adjust advertising budgets, thereby increasing sales. Our goal, therefore, is to develop an accurate model that can be used to predict sales on the basis of the three media budgets. \n",
    "\n",
    "In this case, the advertising budgets are *input variables* while sales is an *output variable*. The inputs are defined by X, the *independent variable* while the output is defined by Y, the *dependent variable*.\n",
    "\n",
    "In the most general form, a given model has a quantitative response Y and p different predictors, X = (X$_1$, X$_2$, ..., X$_p$). So the general form can be written as:\n",
    "\n",
    "  Y = f(X) + $\\epsilon$\n",
    "  \n",
    "where f is some fixed but unknown function of Xs and $\\epsilon$ is a random *error term* which is indepedent of X and has mean zero. In this formulation, f represents the *systematic* information that X provides about Y."
   ]
  },
  {
   "cell_type": "code",
   "execution_count": null,
   "metadata": {
    "collapsed": true
   },
   "outputs": [],
   "source": []
  }
 ],
 "metadata": {
  "kernelspec": {
   "display_name": "Python 2",
   "language": "python",
   "name": "python2"
  },
  "language_info": {
   "codemirror_mode": {
    "name": "ipython",
    "version": 2
   },
   "file_extension": ".py",
   "mimetype": "text/x-python",
   "name": "python",
   "nbconvert_exporter": "python",
   "pygments_lexer": "ipython2",
   "version": "2.7.12"
  }
 },
 "nbformat": 4,
 "nbformat_minor": 0
}
