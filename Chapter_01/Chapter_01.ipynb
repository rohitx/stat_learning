{
 "cells": [
  {
   "cell_type": "markdown",
   "metadata": {},
   "source": [
    "# Chapter 1: Introduction"
   ]
  },
  {
   "cell_type": "markdown",
   "metadata": {},
   "source": [
    "Statistical learning are tools that allow us to understand data. These tools fall into two categories: *supervised* and *unsupervised*. In supervised statistical learning we build statistical models to make predictions, estimation based on inputs. In such scenario, we have the inputs and the outputs. In unsupervised statistical learning there are inputs but no supervised outputs; nevertheless we can learn relationships and structure from such data. \n",
    "\n",
    "The introduction to statistical learning in R (ISLR) is based on the following four premises: \n",
    "\n",
    "* Many statistical learning methods are relevant and useful in a wide range of academic and non-academic disciplines, beyond just the statistical sciences. \n",
    "* Statistical learning should not be viewed as a series of black boxes\n",
    "* While it is important to know what job is performed by each cog, it is not necessary to have the skills to construct the machine inside the box. \n",
    "* We presume that the reader is interested in applying statistical learning methods to real-world problems. \n"
   ]
  }
 ],
 "metadata": {
  "kernelspec": {
   "display_name": "Python 2",
   "language": "python",
   "name": "python2"
  },
  "language_info": {
   "codemirror_mode": {
    "name": "ipython",
    "version": 2
   },
   "file_extension": ".py",
   "mimetype": "text/x-python",
   "name": "python",
   "nbconvert_exporter": "python",
   "pygments_lexer": "ipython2",
   "version": "2.7.12"
  }
 },
 "nbformat": 4,
 "nbformat_minor": 0
}
